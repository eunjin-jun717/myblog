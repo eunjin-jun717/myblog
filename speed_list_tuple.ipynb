{
  "nbformat": 4,
  "nbformat_minor": 0,
  "metadata": {
    "colab": {
      "name": "speed_list_tuple.ipynb",
      "provenance": [],
      "collapsed_sections": [],
      "authorship_tag": "ABX9TyM5aXnRWjKFxBn7VQE7Alow",
      "include_colab_link": true
    },
    "kernelspec": {
      "name": "python3",
      "display_name": "Python 3"
    },
    "language_info": {
      "name": "python"
    },
    "accelerator": "GPU"
  },
  "cells": [
    {
      "cell_type": "markdown",
      "metadata": {
        "id": "view-in-github",
        "colab_type": "text"
      },
      "source": [
        "<a href=\"https://colab.research.google.com/github/eunjin-jun717/myblog/blob/main/speed_list_tuple.ipynb\" target=\"_parent\"><img src=\"https://colab.research.google.com/assets/colab-badge.svg\" alt=\"Open In Colab\"/></a>"
      ]
    },
    {
      "cell_type": "markdown",
      "metadata": {
        "id": "slN9fUGrIZJD"
      },
      "source": [
        "# List vs Tuple"
      ]
    },
    {
      "cell_type": "markdown",
      "metadata": {
        "id": "VuYGUcSnRKez"
      },
      "source": [
        "## 차이점\n",
        "1) list는 *mutable* 즉, 생성된 후에 변경 **가능**하다.\\\n",
        "tuple은 *immutable* 즉, 생성된 후에 변경이 **불가능**하다. \n",
        "\n",
        "2) list는 dictionary의 key값으로 쓸 수 없지만 tuple은 가능하다.\\\n",
        "*why?* key값은 불변한 값만 올 수 있기 때문!\\\n",
        "만약, tuple에 list가 들어있다면?\\\n",
        "=> key 값으로 사용 **불가능**함! \n",
        "* 참고) 문자열 또한 **불변**한 값이므로 dictionary의 key값으로 사용 가능하다.\n",
        "\n"
      ]
    },
    {
      "cell_type": "markdown",
      "metadata": {
        "id": "G-OCwGv9QRc6"
      },
      "source": [
        "## *list* 대신 *tuple*을 사용하는 이유는?"
      ]
    },
    {
      "cell_type": "markdown",
      "metadata": {
        "id": "W-7EV6MgPM-y"
      },
      "source": [
        "## 메모리 크기 비교"
      ]
    },
    {
      "cell_type": "code",
      "metadata": {
        "colab": {
          "base_uri": "https://localhost:8080/"
        },
        "id": "tsVsXjexIeep",
        "outputId": "98fe36c2-b8fa-41fa-c898-3cf78682b20d"
      },
      "source": [
        "list_1=['A','B','C','D']\n",
        "tuple_1='A','B','C','D'\n",
        "\n",
        "import sys\n",
        "sys.getsizeof(list_1)\n",
        "sys.getsizeof(tuple_1)"
      ],
      "execution_count": 6,
      "outputs": [
        {
          "output_type": "stream",
          "text": [
            "10000000 loops, best of 5: 52.8 ns per loop\n",
            "100000000 loops, best of 5: 16 ns per loop\n",
            "The slowest run took 21.06 times longer than the fastest. This could mean that an intermediate result is being cached.\n",
            "10000000 loops, best of 5: 47.8 ns per loop\n",
            "10000000 loops, best of 5: 42.3 ns per loop\n"
          ],
          "name": "stdout"
        }
      ]
    },
    {
      "cell_type": "markdown",
      "metadata": {
        "id": "8yn_5qeoQbhq"
      },
      "source": [
        "- tuple이 메모리를 차이하는 것이 더 작은 것을 볼 수 있다. "
      ]
    },
    {
      "cell_type": "markdown",
      "metadata": {
        "id": "Ux8xHEpBPTJa"
      },
      "source": [
        "## 생성 속도"
      ]
    },
    {
      "cell_type": "code",
      "metadata": {
        "id": "sjhSAAhtPWDy"
      },
      "source": [
        "%timeit list_2=['a','b','c','d']\n",
        "%timeit tuple_2='a','b','c','d'"
      ],
      "execution_count": null,
      "outputs": []
    },
    {
      "cell_type": "markdown",
      "metadata": {
        "id": "pVBO4qjUQnWC"
      },
      "source": [
        "- tuple의 생성속도가 더 빠른 것을 확인할 수 있다."
      ]
    },
    {
      "cell_type": "markdown",
      "metadata": {
        "id": "ljZaCzdvPZDy"
      },
      "source": [
        "## 인덱싱 속도"
      ]
    },
    {
      "cell_type": "code",
      "metadata": {
        "id": "PxdAb2-WPa7C"
      },
      "source": [
        "list_3=['A','B','C','D']\n",
        "%timeit list_3[0]\n",
        "\n",
        "tuple_3='A','B','C','D'\n",
        "%timeit tuple_3[0]"
      ],
      "execution_count": null,
      "outputs": []
    },
    {
      "cell_type": "markdown",
      "metadata": {
        "id": "pvj7FxFCQs46"
      },
      "source": [
        "tuple이 list보다 indexing 으로 데이터에 접근하는 속도가 더 빠르다. "
      ]
    },
    {
      "cell_type": "markdown",
      "metadata": {
        "id": "HTMXo_meQVxC"
      },
      "source": [
        "## 결과\n",
        "- 메모리 크기비교, 생성속도, 인덱싱 속도에서 모두 tuple의 결과가 더 빠른것을 확인 할 수 있었다. "
      ]
    },
    {
      "cell_type": "markdown",
      "metadata": {
        "id": "kN3tTGSxP3pS"
      },
      "source": [
        "### 출처\n",
        "- [https://codacoding.tistory.com/36](https://codacoding.tistory.com/36)\n",
        "- [https://itholic.github.io/python-list-tuple/](https://itholic.github.io/python-list-tuple/)"
      ]
    }
  ]
}